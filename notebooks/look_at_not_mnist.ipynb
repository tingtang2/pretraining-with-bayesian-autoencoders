{
 "cells": [
  {
   "cell_type": "code",
   "execution_count": 1,
   "id": "0c78e125-45d1-4306-8728-50de2ed39822",
   "metadata": {},
   "outputs": [],
   "source": [
    "from PIL import Image, UnidentifiedImageError\n",
    "from pathlib import Path\n",
    "import numpy as np"
   ]
  },
  {
   "cell_type": "markdown",
   "id": "84e4373f-df6c-4bb6-b146-0dce10300914",
   "metadata": {
    "tags": []
   },
   "source": [
    "## Look at notMNIST dataset"
   ]
  },
  {
   "cell_type": "code",
   "execution_count": 2,
   "id": "c8d8dce1-f061-4a91-b94e-7c5193d1f0e9",
   "metadata": {},
   "outputs": [],
   "source": [
    "images = {'A': [],\n",
    "          'B': [],\n",
    "          'C': [],\n",
    "          'D': [],\n",
    "          'E': [],\n",
    "          'F': [],\n",
    "          'G': [],\n",
    "          'H': [],\n",
    "          'I': [],\n",
    "          'J': []}\n",
    "          \n",
    "for k, v in images.items():\n",
    "    for path in list(Path(f'/home/tingchen/data/notMNIST_small/{k}').glob('*.png')):\n",
    "        try: \n",
    "            with Image.open(path) as im:\n",
    "                images[k].append(np.array(im))\n",
    "        except UnidentifiedImageError as ex:\n",
    "            pass"
   ]
  },
  {
   "cell_type": "code",
   "execution_count": 3,
   "id": "53cabb3d-53bb-49a9-9f58-91c78eef7787",
   "metadata": {},
   "outputs": [
    {
     "name": "stdout",
     "output_type": "stream",
     "text": [
      "A 1872\n",
      "B 1873\n",
      "C 1873\n",
      "D 1873\n",
      "E 1873\n",
      "F 1872\n",
      "G 1872\n",
      "H 1872\n",
      "I 1872\n",
      "J 1872\n"
     ]
    }
   ],
   "source": [
    "num_total_imgs = 0\n",
    "for k, v in images.items():\n",
    "    print(k, len(v))\n",
    "    num_total_imgs += len(v)\n"
   ]
  },
  {
   "cell_type": "code",
   "execution_count": 17,
   "id": "6f1f5761-c154-4da3-91fa-c6957e5e153f",
   "metadata": {},
   "outputs": [
    {
     "data": {
      "image/png": "[encoded data removed]",
      "text/plain": [
       "<PIL.Image.Image image mode=L size=28x28>"
      ]
     },
     "execution_count": 17,
     "metadata": {},
     "output_type": "execute_result"
    }
   ],
   "source": [
    "Image.fromarray(images['A'][2])"
   ]
  },
  {
   "cell_type": "code",
   "execution_count": 20,
   "id": "020ae3ec-4ff0-4862-b7a1-e4a61ffd3504",
   "metadata": {},
   "outputs": [
    {
     "data": {
      "image/png": "[encoded data removed]",
      "text/plain": [
       "<PIL.Image.Image image mode=L size=28x28>"
      ]
     },
     "execution_count": 20,
     "metadata": {},
     "output_type": "execute_result"
    }
   ],
   "source": [
    "Image.fromarray(images['J'][2])"
   ]
  },
  {
   "cell_type": "markdown",
   "id": "7ca2e7cc-0174-4f5b-9e23-c6e4d2170e61",
   "metadata": {},
   "source": [
    "### Save dataset into `.npy` files"
   ]
  },
  {
   "cell_type": "markdown",
   "id": "b150416d-d05d-45de-b512-c36ed9904306",
   "metadata": {},
   "source": [
    "Generate labels"
   ]
  },
  {
   "cell_type": "code",
   "execution_count": 4,
   "id": "54332c02-19ab-4277-a49c-4a8c20a5342c",
   "metadata": {},
   "outputs": [],
   "source": [
    "labels_singular = [i for i, k in enumerate(images.keys()) for val in images[k]]"
   ]
  },
  {
   "cell_type": "code",
   "execution_count": 5,
   "id": "0a7aa8e9-46e4-4b58-ace0-de372f5fa5eb",
   "metadata": {},
   "outputs": [
    {
     "data": {
      "text/plain": [
       "9"
      ]
     },
     "execution_count": 5,
     "metadata": {},
     "output_type": "execute_result"
    }
   ],
   "source": [
    "labels_singular[-1]"
   ]
  },
  {
   "cell_type": "code",
   "execution_count": 6,
   "id": "1e225790-3ae3-478c-b168-787d902fcbcf",
   "metadata": {},
   "outputs": [
    {
     "data": {
      "text/plain": [
       "18724"
      ]
     },
     "execution_count": 6,
     "metadata": {},
     "output_type": "execute_result"
    }
   ],
   "source": [
    "len(labels_singular)"
   ]
  },
  {
   "cell_type": "code",
   "execution_count": 7,
   "id": "7b3a64a4-c21f-416c-b6d2-8a92183d33fd",
   "metadata": {},
   "outputs": [],
   "source": [
    "with open(Path('labels_singular.npy'), 'wb') as f:\n",
    "    np.save(f, np.array(labels_singular))"
   ]
  },
  {
   "cell_type": "code",
   "execution_count": 8,
   "id": "5149959b-639d-4c4f-97c8-df3dd394b5a9",
   "metadata": {},
   "outputs": [],
   "source": [
    "labels = []\n",
    "\n",
    "for i, k in enumerate(images.keys()):\n",
    "    for v in images[k]:\n",
    "        one_hot = np.zeros((1, 10))\n",
    "        one_hot[0, i] = 1\n",
    "        labels.append(one_hot)"
   ]
  },
  {
   "cell_type": "code",
   "execution_count": 9,
   "id": "188af638-5b33-47d7-8771-2360b36fe1c7",
   "metadata": {},
   "outputs": [],
   "source": [
    "y = np.concatenate(labels, axis=0)"
   ]
  },
  {
   "cell_type": "code",
   "execution_count": 40,
   "id": "22dab656-cc82-4dfb-a677-b2c8e999971d",
   "metadata": {},
   "outputs": [
    {
     "data": {
      "text/plain": [
       "(18724, 10)"
      ]
     },
     "execution_count": 40,
     "metadata": {},
     "output_type": "execute_result"
    }
   ],
   "source": [
    "y.shape"
   ]
  },
  {
   "cell_type": "code",
   "execution_count": 42,
   "id": "b7f26ed9-0c16-4835-b691-43ea123971c2",
   "metadata": {},
   "outputs": [],
   "source": [
    "with open(Path('labels.npy'), 'wb') as f:\n",
    "    np.save(f, y)"
   ]
  },
  {
   "cell_type": "code",
   "execution_count": 39,
   "id": "6d2367a8-3d44-4c44-a45d-34b22b6ae51a",
   "metadata": {},
   "outputs": [
    {
     "data": {
      "text/plain": [
       "(28, 28)"
      ]
     },
     "execution_count": 39,
     "metadata": {},
     "output_type": "execute_result"
    }
   ],
   "source": [
    "images['A'][2].shape"
   ]
  },
  {
   "cell_type": "code",
   "execution_count": 10,
   "id": "20a11156-3333-4a91-b074-0198da32b4f7",
   "metadata": {},
   "outputs": [],
   "source": [
    "X = np.empty((18724, 784))"
   ]
  },
  {
   "cell_type": "code",
   "execution_count": 11,
   "id": "abd7d45b-b695-454e-855a-72a0e051d602",
   "metadata": {},
   "outputs": [],
   "source": [
    "idx = 0\n",
    "\n",
    "for v in images.values():\n",
    "    for array in v:\n",
    "        X[idx] = array.reshape((-1))\n",
    "        idx += 1"
   ]
  },
  {
   "cell_type": "code",
   "execution_count": 12,
   "id": "fbcefb79-9c7d-43d5-8f90-251b3e2a30ea",
   "metadata": {},
   "outputs": [],
   "source": [
    "with open(Path('images.npy'), 'wb') as f:\n",
    "    np.save(f, X)"
   ]
  }
 ],
 "metadata": {
  "environment": {
   "kernel": "python3",
   "name": "pytorch-gpu.1-12.m100",
   "type": "gcloud",
   "uri": "gcr.io/deeplearning-platform-release/pytorch-gpu.1-12:m100"
  },
  "kernelspec": {
   "display_name": "Python 3.7.12 ('base')",
   "language": "python",
   "name": "python3"
  },
  "language_info": {
   "codemirror_mode": {
    "name": "ipython",
    "version": 3
   },
   "file_extension": ".py",
   "mimetype": "text/x-python",
   "name": "python",
   "nbconvert_exporter": "python",
   "pygments_lexer": "ipython3",
   "version": "3.7.12"
  },
  "vscode": {
   "interpreter": {
    "hash": "d4d1e4263499bec80672ea0156c357c1ee493ec2b1c70f0acce89fc37c4a6abe"
   }
  }
 },
 "nbformat": 4,
 "nbformat_minor": 5
}
